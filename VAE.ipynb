{
 "cells": [
  {
   "cell_type": "code",
   "execution_count": 2,
   "id": "8d23b0ca",
   "metadata": {},
   "outputs": [],
   "source": [
    "import os\n",
    "import torch\n",
    "from torch import nn\n",
    "from torch.autograd import Variable\n",
    "from torch.utils.data import DataLoader\n",
    "from torchvision import transforms\n",
    "from torchvision.datasets import FashionMNIST\n",
    "from torchvision.utils import save_image\n",
    "import torchsummary\n",
    "\n",
    "if not os.path.exists('./VAE_img'):\n",
    "    os.mkdir('./VAE_img')\n"
   ]
  },
  {
   "cell_type": "code",
   "execution_count": 8,
   "id": "dd22f3bf",
   "metadata": {},
   "outputs": [],
   "source": [
    "def normalization(tensor, min_value, max_value):\n",
    "    min_tensor = tensor.min()\n",
    "    tensor = (tensor - min_tensor)\n",
    "    max_tensor = tensor.max()\n",
    "    tensor = tensor / max_tensor\n",
    "    tensor = tensor * (max_value - min_value) + min_value\n",
    "    return tensor\n",
    "\n",
    "def value_round(tensor):\n",
    "    return torch.round(tensor)\n",
    "\n",
    "def to_img(x):\n",
    "    x = x.view(x.size(0),1,28,28)\n",
    "    return x\n",
    "\n",
    "img_transform = transforms.Compose([\n",
    "    transforms.ToTensor(),\n",
    "    transforms.Lambda(lambda tensor:normalization(tensor,0,1)),\n",
    "    transforms.Lambda(lambda tensor:value_round(tensor))\n",
    "])\n",
    "batch_size=128\n",
    "dataset = FashionMNIST('./FashionMNIST_DATASET',transform=img_transform,download=True)\n",
    "dataloader = DataLoader(dataset,batch_size=batch_size,shuffle=True)"
   ]
  },
  {
   "cell_type": "code",
   "execution_count": 9,
   "id": "41682454",
   "metadata": {},
   "outputs": [],
   "source": [
    "class VariationalAutoEncoder(nn.Module):\n",
    "    def __init__(self):\n",
    "        super(VariationalAutoEncoder,self).__init__()\n",
    "        self.encoder = nn.Sequential(\n",
    "            nn.Linear(28*28,400),\n",
    "            nn.ReLU(True),\n",
    "            nn.Linear(400,40)\n",
    "        )\n",
    "        self.decoder = nn.Sequential(\n",
    "            nn.Linear(20,400), # 반은 MU, 반은 Var\n",
    "            nn.ReLU(True),\n",
    "            nn.Linear(400,28*28),\n",
    "            nn.Sigmoid()\n",
    "        )\n",
    "    \n",
    "    def reparameterization(self,mean,logvar):\n",
    "        var = logvar.exp() # e^{logvar}\n",
    "        std = var.sqrt() # std = sqrt(e^{logvar})\n",
    "        eps = Variable(torch.cuda.FloatTensor(std.size()).normal_()) # N(0,1)\n",
    "        return eps.mul(std).add(mean)\n",
    "    \n",
    "    def forward(self,x):\n",
    "        h = self.encoder(x)\n",
    "        mean = h[:,:20]\n",
    "        logvar = h[:,20:]\n",
    "        z = self.reparameterization(mean,logvar)\n",
    "        x_gen = self.decoder(z)\n",
    "        \n",
    "        return x_gen, mean, logvar\n",
    "    \n",
    "    def interpolation(self,x_1,x_2,alpha):\n",
    "        traverse_1 = self.encoder(x_1)\n",
    "        traverse_2 = self.encoder(x_2)\n",
    "        mean_1,mean_2 = traverse_1[:,:20],traverse_2[:,:20]\n",
    "        \n",
    "        logvar_1, logvar_2 = traverse_1[:,20:],traverse_2[:,20:]\n",
    "        traverse_m = (1-alpha) * mean_1 + alpha * mean_2\n",
    "        traverse_logvar = (1-alpha) * logvar_1 + alpha * logvar_2\n",
    "        z = self.reparameterization(traverse_m,traverse_logvar)\n",
    "        generated_image = self.decoder(z)\n",
    "        \n",
    "        return generated_image"
   ]
  },
  {
   "cell_type": "code",
   "execution_count": 16,
   "id": "7944ec54",
   "metadata": {},
   "outputs": [
    {
     "name": "stdout",
     "output_type": "stream",
     "text": [
      "-----------------------------------------------------------------------\n",
      "      Layer (type)         Input Shape         Param #     Tr. Param #\n",
      "=======================================================================\n",
      "          Linear-1            [1, 784]         314,000         314,000\n",
      "            ReLU-2            [1, 400]               0               0\n",
      "          Linear-3            [1, 400]          16,040          16,040\n",
      "          Linear-4             [1, 20]           8,400           8,400\n",
      "            ReLU-5            [1, 400]               0               0\n",
      "          Linear-6            [1, 400]         314,384         314,384\n",
      "         Sigmoid-7            [1, 784]               0               0\n",
      "=======================================================================\n",
      "Total params: 652,824\n",
      "Trainable params: 652,824\n",
      "Non-trainable params: 0\n",
      "-----------------------------------------------------------------------\n"
     ]
    }
   ],
   "source": [
    "import pytorch_model_summary\n",
    "model = VariationalAutoEncoder().cuda()\n",
    "print(pytorch_model_summary.summary(model,torch.zeros(1,784).cuda(),show_input=True))"
   ]
  },
  {
   "cell_type": "code",
   "execution_count": 17,
   "id": "aef9abb1",
   "metadata": {},
   "outputs": [
    {
     "name": "stdout",
     "output_type": "stream",
     "text": [
      "epoch: [1 / 50] loss:0.1834\n",
      "epoch: [11 / 50] loss:0.1537\n",
      "epoch: [21 / 50] loss:0.1556\n",
      "epoch: [31 / 50] loss:0.1341\n",
      "epoch: [41 / 50] loss:0.1423\n",
      "epoch: [50 / 50] loss:0.1391\n"
     ]
    }
   ],
   "source": [
    "BCE = nn.BCELoss()\n",
    "num_epochs, learning_rate = 50,1e-3\n",
    "optimizer = torch.optim.Adam(model.parameters(),lr=learning_rate)\n",
    "\n",
    "for epoch in range(num_epochs):\n",
    "    for data in dataloader:\n",
    "        img,_ = data\n",
    "        img = img.view(img.size(0),-1)\n",
    "        img = Variable(img).cuda()\n",
    "        x_gen,mu,logvar = model(img)\n",
    "        NKLD = mu.pow(2).add(logvar.exp()).mul(-1).add(logvar.add(1))\n",
    "        KLD = torch.sum(NKLD).mul(-0.5)\n",
    "        \n",
    "        KLD /= batch_size * 784\n",
    "        loss = BCE(x_gen,img) + KLD\n",
    "        \n",
    "        optimizer.zero_grad()\n",
    "        loss.backward()\n",
    "        optimizer.step()\n",
    "        \n",
    "    if epoch % 10 == 0 or (epoch+1) == num_epochs:\n",
    "        print(f'epoch: [{epoch+1} / {num_epochs}] loss:{loss.item():.4f}')\n",
    "        x_gt = to_img(img.cpu().data)\n",
    "        x_gen = to_img(x_gen.cpu().data)\n",
    "        save_image(x_gt,'./VAE_img/ground_truth_{}.png'.format(epoch))\n",
    "        save_image(x_gen,'./VAE_img/generated_{}.png'.format(epoch))\n",
    "        batch = next(iter(dataloader))\n",
    "        batch = batch[0].clone().detach()\n",
    "        batch = batch.view(batch.size(0),-1)\n",
    "        batch = Variable(batch).cuda()\n",
    "        x_1 = batch[0:1]\n",
    "        x_2 = batch[1:2]\n",
    "        generated_images = []\n",
    "        for alpha in torch.arange(0.0,1.0,0.1):\n",
    "            generated_images.append(model.interpolation(x_1,x_2,alpha))\n",
    "        generated_images = torch.cat(generated_images,0).cpu().data\n",
    "        save_image(generated_images.view(-1,1,28,28),'./VAE_img/interpolation_{}.png'.format(epoch))\n",
    "        \n",
    "torch.save(model.state_dict(),'./Variational_AutoEncoder.pth')"
   ]
  },
  {
   "cell_type": "code",
   "execution_count": null,
   "id": "1cfbb162",
   "metadata": {},
   "outputs": [],
   "source": []
  }
 ],
 "metadata": {
  "kernelspec": {
   "display_name": "pytorch_cuda_11_8",
   "language": "python",
   "name": "python3"
  },
  "language_info": {
   "codemirror_mode": {
    "name": "ipython",
    "version": 3
   },
   "file_extension": ".py",
   "mimetype": "text/x-python",
   "name": "python",
   "nbconvert_exporter": "python",
   "pygments_lexer": "ipython3",
   "version": "3.9.18"
  }
 },
 "nbformat": 4,
 "nbformat_minor": 5
}
